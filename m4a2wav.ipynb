{
 "cells": [
  {
   "cell_type": "code",
   "execution_count": 1,
   "metadata": {},
   "outputs": [],
   "source": [
    "from pydub import AudioSegment"
   ]
  },
  {
   "cell_type": "code",
   "execution_count": 2,
   "metadata": {},
   "outputs": [
    {
     "name": "stdout",
     "output_type": "stream",
     "text": [
      "转换完成: audio/demo.wav\n"
     ]
    }
   ],
   "source": [
    "\n",
    "# 输入M4A文件名和输出WAV文件名\n",
    "input_file = \"audio/demo.m4a\"\n",
    "output_file = \"audio/demo.wav\"\n",
    "\n",
    "# 使用pydub打开M4A文件\n",
    "audio = AudioSegment.from_file(input_file, format=\"m4a\")\n",
    "\n",
    "# 将M4A文件保存为WAV文件\n",
    "audio.export(output_file, format=\"wav\")\n",
    "\n",
    "print(\"转换完成:\", output_file)\n"
   ]
  }
 ],
 "metadata": {
  "kernelspec": {
   "display_name": "d2l",
   "language": "python",
   "name": "python3"
  },
  "language_info": {
   "codemirror_mode": {
    "name": "ipython",
    "version": 3
   },
   "file_extension": ".py",
   "mimetype": "text/x-python",
   "name": "python",
   "nbconvert_exporter": "python",
   "pygments_lexer": "ipython3",
   "version": "3.9.18"
  }
 },
 "nbformat": 4,
 "nbformat_minor": 2
}
